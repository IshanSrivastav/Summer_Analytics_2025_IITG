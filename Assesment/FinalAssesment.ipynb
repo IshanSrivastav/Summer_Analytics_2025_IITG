{
  "cells": [
    {
      "cell_type": "markdown",
      "source": [
        "#Step 1 Starting Point As Per Sample Notebook"
      ],
      "metadata": {
        "id": "uVxEf0Gqdemd"
      },
      "id": "uVxEf0Gqdemd"
    },
    {
      "cell_type": "code",
      "execution_count": null,
      "id": "17eff1b5",
      "metadata": {
        "id": "17eff1b5"
      },
      "outputs": [],
      "source": [
        "!pip install pathway bokeh panel --quiet"
      ]
    },
    {
      "cell_type": "markdown",
      "id": "9c3d6a06",
      "metadata": {
        "id": "9c3d6a06"
      },
      "source": [
        "## 📥 SECTION 2: Data Preparation"
      ]
    },
    {
      "cell_type": "code",
      "execution_count": null,
      "id": "09798c20",
      "metadata": {
        "id": "09798c20"
      },
      "outputs": [],
      "source": [
        "import pandas as pd\n",
        "\n",
        "df = pd.read_csv(\"dataset.csv\")\n",
        "\n",
        "# Combine date and time\n",
        "df['Timestamp'] = pd.to_datetime(df['LastUpdatedDate'] + ' ' + df['LastUpdatedTime'],\n",
        "                                 format='%d-%m-%Y %H:%M:%S')\n",
        "\n",
        "# Vehicle weights with default 1.0\n",
        "vehicle_weights = {'car': 1.0, 'bike': 0.5, 'truck': 1.5}\n",
        "df['vehicle_weight'] = (\n",
        "    df['VehicleType'].map(vehicle_weights).fillna(1.0).astype(float)\n",
        ")\n",
        "\n",
        "# ✅ Traffic mapping with enforced int via lambda\n",
        "traffic_map = {\"low\": 1, \"medium\": 2, \"high\": 3}\n",
        "df['traffic_level'] = df['TrafficConditionNearby'].map(traffic_map)\n",
        "df['traffic_level'] = df['traffic_level'].fillna(0).apply(lambda x: int(x))\n",
        "\n",
        "# Rename & select columns\n",
        "df_stream = df.rename(columns={\n",
        "    'SystemCodeNumber': 'lot_id',\n",
        "    'Occupancy': 'occupancy',\n",
        "    'Capacity': 'capacity',\n",
        "    'QueueLength': 'queue_length',\n",
        "    'IsSpecialDay': 'is_special_day'\n",
        "})[[\n",
        "    'Timestamp', 'lot_id', 'occupancy', 'capacity',\n",
        "    'queue_length', 'traffic_level', 'is_special_day', 'vehicle_weight'\n",
        "]]\n",
        "\n",
        "# Export cleaned data\n",
        "df_stream.to_csv(\"parking_stream.csv\", index=False)"
      ]
    },
    {
      "cell_type": "markdown",
      "id": "3253e654",
      "metadata": {
        "id": "3253e654"
      },
      "source": [
        "## 🧠 Demand Function Explanation\n",
        "Our demand function is a weighted sum of five real-time features:\n",
        "- **Occupancy ratio** (occupancy / capacity): how full the lot is\n",
        "- **Queue length**: number of vehicles waiting\n",
        "- **Traffic level**: traffic near the lot (mapped from low/medium/high)\n",
        "- **Special days**: whether the day is a public/known holiday (0/1)\n",
        "- **Vehicle weight**: demand proxy based on vehicle type (car/truck/bike)\n",
        "\n",
        "Weights are selected based on intuitive impact on demand, scaled and normalized."
      ]
    },
    {
      "cell_type": "markdown",
      "id": "75665a4a",
      "metadata": {
        "id": "75665a4a"
      },
      "source": [
        "## ⚖️ Assumptions & Weights Justification\n",
        "- `W[\"occupancy\"] = 0.4`: Occupancy is the most direct measure of demand.\n",
        "- `W[\"queue\"] = 0.3`: A longer queue reflects unmet demand.\n",
        "- `W[\"traffic\"] = 0.15`: More traffic means more potential drivers.\n",
        "- `W[\"special\"] = 0.1`: Holidays or events increase parking pressure.\n",
        "- `W[\"vehicle\"] = 0.05`: Heavy vehicles are weighted more in demand.\n",
        "\n",
        "Weights sum to 1.0 for normalized interpretation."
      ]
    },
    {
      "cell_type": "markdown",
      "id": "002f0e9d",
      "metadata": {
        "id": "002f0e9d"
      },
      "source": [
        "## 💰 Dynamic Pricing Formula Used\n",
        "Final price is determined using the normalized demand:\n",
        "```python\n",
        "price = normalized_demand * LAMBDA * BASE + BASE\n",
        "```\n",
        "- `BASE` = 10.0: baseline price when demand is 0\n",
        "- `LAMBDA` = 0.5: scaling factor to adjust sensitivity\n",
        "\n",
        "Prices increase smoothly with demand while remaining interpretable."
      ]
    },
    {
      "cell_type": "markdown",
      "id": "1f4e0874",
      "metadata": {
        "id": "1f4e0874"
      },
      "source": [
        "## 📡 SECTION 3: Pathway Streaming Setup"
      ]
    },
    {
      "cell_type": "code",
      "execution_count": null,
      "id": "95b09601",
      "metadata": {
        "id": "95b09601"
      },
      "outputs": [],
      "source": [
        "import pathway as pw\n",
        "\n",
        "# Define the schema for the streaming data using Pathway\n",
        "# This schema specifies the expected structure of each data row in the stream\n",
        "class ParkingSchema(pw.Schema):\n",
        "    Timestamp: str\n",
        "    lot_id: str\n",
        "    occupancy: int\n",
        "    capacity: int\n",
        "    queue_length: int\n",
        "    traffic_level: float\n",
        "    is_special_day: int\n",
        "    vehicle_weight: float\n",
        "\n",
        "# Stream the data\n",
        "# Load the data as a simulated stream using Pathway's replay_csv function\n",
        "# This replays the CSV data at a controlled input rate to mimic real-time streaming\n",
        "# input_rate=1000 means approximately 1000 rows per second will be ingested into the stream.\n",
        "stream = pw.demo.replay_csv(\"parking_stream.csv\", schema=ParkingSchema, input_rate=1000)\n"
      ]
    },
    {
      "cell_type": "code",
      "source": [
        "from datetime import timedelta\n",
        "import pathway as pw\n",
        "\n",
        "# Define the datetime format to parse the 'Timestamp' column\n",
        "# Parse timestamp and derive daily instance key\n",
        "fmt = \"%Y-%m-%d %H:%M:%S\"\n",
        "\n",
        "# Add new columns to the data stream:\n",
        "# - 't' contains the parsed full datetime\n",
        "# - 'day' extracts the date part and resets the time to midnight (useful for day-level aggregations)\n",
        "data = stream.with_columns(\n",
        "    t = stream.Timestamp.dt.strptime(fmt),\n",
        "    day = stream.Timestamp.dt.strptime(fmt).dt.strftime(\"%Y-%m-%dT00:00:00\")\n",
        ")\n"
      ],
      "metadata": {
        "id": "ueE7fu9Jp-mb"
      },
      "id": "ueE7fu9Jp-mb",
      "execution_count": null,
      "outputs": []
    },
    {
      "cell_type": "markdown",
      "source": [
        "# 🧩 Model 1: Baseline Linear Pricing"
      ],
      "metadata": {
        "id": "nFEEfzdTqHag"
      },
      "id": "nFEEfzdTqHag"
    },
    {
      "cell_type": "code",
      "source": [
        "ALPHA = 1.5\n",
        "BASE_PRICE = 10.0\n",
        "\n",
        "# Define a tumbling window of 1 day\n",
        "windowed_model1 = data.windowby(\n",
        "    pw.this.t,\n",
        "    instance=pw.this.lot_id + \"_\" + pw.this.day,\n",
        "    window=pw.temporal.tumbling(timedelta(days=1)),\n",
        "    behavior=pw.temporal.exactly_once_behavior()\n",
        ")\n",
        "\n",
        "# Calculate the price for Model 1\n",
        "model1_price = windowed_model1.reduce(\n",
        "    t=pw.this._pw_window_end,\n",
        "    lot_id=pw.reducers.max(pw.this.lot_id),\n",
        "    occ_sum=pw.reducers.sum(pw.this.occupancy),\n",
        "    count=pw.reducers.count(),\n",
        "    cap=pw.reducers.max(pw.this.capacity),\n",
        ").with_columns(\n",
        "    # First, calculate the average occupancy in one call\n",
        "    occ_avg=pw.this.occ_sum / pw.this.count\n",
        ").with_columns(\n",
        "    # Then, use the new column in a second call to calculate the price\n",
        "    price_model_1=BASE_PRICE + ALPHA * (pw.this.occ_avg / pw.this.cap)\n",
        ")"
      ],
      "metadata": {
        "id": "STspZNE2qBTl"
      },
      "id": "STspZNE2qBTl",
      "execution_count": null,
      "outputs": []
    },
    {
      "cell_type": "markdown",
      "id": "e3fe573a",
      "metadata": {
        "id": "e3fe573a"
      },
      "source": [
        "## 🧠 SECTION 4: Real-Time Pricing Logic (Model 2)"
      ]
    },
    {
      "cell_type": "code",
      "execution_count": null,
      "id": "3376f311",
      "metadata": {
        "id": "3376f311"
      },
      "outputs": [],
      "source": [
        "\n",
        "# Define demand weights and price scaling\n",
        "W = {\"occupancy\": 0.4, \"queue\": 0.3, \"traffic\": 0.15, \"special\": 0.1, \"vehicle\": 0.05}\n",
        "LAMBDA = 0.5\n",
        "BASE = 10.0\n",
        "\n",
        "# Tumbling daily window by lot\n",
        "windowed = data.windowby(\n",
        "    pw.this.t,\n",
        "    instance=pw.this.lot_id + \"_\" + pw.this.day,\n",
        "    window=pw.temporal.tumbling(timedelta(days=1)),\n",
        "    behavior=pw.temporal.exactly_once_behavior()\n",
        ")\n",
        "\n",
        "# Reduce to daily aggregates\n",
        "windowed_price = windowed.reduce(\n",
        "    t = pw.this._pw_window_end,\n",
        "    occ_max = pw.reducers.max(pw.this.occupancy),\n",
        "    cap = pw.reducers.max(pw.this.capacity),\n",
        "    queue_sum = pw.reducers.sum(pw.this.queue_length),\n",
        "    traffic_sum = pw.reducers.sum(pw.this.traffic_level),\n",
        "    vehicle_sum = pw.reducers.sum(pw.this.vehicle_weight),\n",
        "    count = pw.reducers.count(),\n",
        "    special = pw.reducers.max(pw.this.is_special_day),\n",
        "    lot_id = pw.reducers.max(pw.this.lot_id)\n",
        ")\n",
        "\n",
        "# Compute averages (no .cast() needed)\n",
        "windowed_price = windowed_price.with_columns(\n",
        "    queue_avg = pw.this.queue_sum / pw.this.count,\n",
        "    traffic_avg = pw.this.traffic_sum / pw.this.count,\n",
        "    vehicle_avg = pw.this.vehicle_sum / pw.this.count\n",
        ")\n",
        "\n",
        "# Step 1: Compute demand\n",
        "windowed_price = windowed_price.with_columns(\n",
        "    demand = (\n",
        "        W[\"occupancy\"] * (pw.this.occ_max / pw.this.cap) +\n",
        "        W[\"queue\"] * pw.this.queue_avg +\n",
        "        W[\"traffic\"] * pw.this.traffic_avg +\n",
        "        W[\"special\"] * pw.this.special +\n",
        "        W[\"vehicle\"] * pw.this.vehicle_avg\n",
        "    )\n",
        ")\n",
        "\n",
        "# Step 2: Normalize demand\n",
        "windowed_price = windowed_price.with_columns(\n",
        "    normalized_demand = pw.this.demand / 5.0\n",
        ")\n",
        "\n",
        "# Step 3: Compute price\n",
        "windowed_price = windowed_price.with_columns(\n",
        "    price = pw.this.normalized_demand * LAMBDA * BASE + BASE\n",
        ")\n"
      ]
    },
    {
      "cell_type": "markdown",
      "id": "6a321a51",
      "metadata": {
        "id": "6a321a51"
      },
      "source": [
        "## 📊 SECTION 5: Bokeh Real-Time Visualization"
      ]
    },
    {
      "cell_type": "code",
      "source": [
        "import bokeh.plotting\n",
        "import panel as pn"
      ],
      "metadata": {
        "id": "8EzUSV0BK8Xy"
      },
      "id": "8EzUSV0BK8Xy",
      "execution_count": null,
      "outputs": []
    },
    {
      "cell_type": "code",
      "source": [
        "# Model 1 Plot\n",
        "\n",
        "# Activate Panel extension for interactive visualizations\n",
        "pn.extension()\n",
        "\n",
        "# Define a custom Bokeh plotting function for Model 1\n",
        "def plot_model1(source):\n",
        "    fig = bokeh.plotting.figure(\n",
        "        width=800,\n",
        "        height=400,\n",
        "        x_axis_type=\"datetime\",\n",
        "        title=\"Model 1: Baseline Linear Pricing\"\n",
        "    )\n",
        "    # Line plot\n",
        "    fig.line(\"t\", \"price_model_1\", source=source, line_width=2, color=\"gray\", legend_label=\"Model 1\")\n",
        "    # Scatter points for better visibility\n",
        "    fig.scatter(\"t\", \"price_model_1\", source=source, size=5, color=\"black\")\n",
        "\n",
        "    fig.legend.location = \"top_left\"\n",
        "    return fig\n",
        "\n",
        "# Generate the Bokeh plot using Pathway's .plot()\n",
        "viz_model1 = model1_price.plot(plot_model1, sorting_col=\"t\")\n",
        "\n",
        "# Display using Panel layout\n",
        "pn.Column(viz_model1).servable()\n",
        "\n"
      ],
      "metadata": {
        "id": "Rg_i-U5HKwfb"
      },
      "id": "Rg_i-U5HKwfb",
      "execution_count": null,
      "outputs": []
    },
    {
      "cell_type": "code",
      "execution_count": null,
      "id": "8d7321d4",
      "metadata": {
        "id": "8d7321d4"
      },
      "outputs": [],
      "source": [
        "# Model 2 Plot\n",
        "\n",
        "# Activate the Panel extension to enable interactive visualizations\n",
        "pn.extension()\n",
        "\n",
        "# Define a custom Bokeh plotting function that takes a data source (from Pathway) and returns a figure\n",
        "def plotter(source):\n",
        "    fig = bokeh.plotting.figure(\n",
        "        width=800,\n",
        "        height=400,\n",
        "        x_axis_type=\"datetime\",  # Ensure time-based data is properly formatted on the x-axis\n",
        "        title=\"Model 2: Real Time Demand-Based Pricing\"\n",
        "    )\n",
        "    fig.line(\"t\", \"price\", source=source, line_width=2, color=\"green\")\n",
        "    fig.scatter(\"t\", \"price\", source=source, size=5, color=\"blue\")  # ✅ Bokeh 3.4-compatible\n",
        "    return fig\n",
        "\n",
        "# Use Pathway's built-in .plot() method to bind the data stream (delta_window) to the Bokeh plot\n",
        "# - 'plotter' is the rendering function\n",
        "# - 'sorting_col=\"t\"' ensures the data is plotted in time order\n",
        "viz = windowed_price.plot(plotter, sorting_col=\"t\")\n",
        "\n",
        "# Create a Panel layout and make it servable as a web app\n",
        "# This line enables the interactive plot to be displayed when the app is served\n",
        "pn.Column(viz).servable()\n"
      ]
    },
    {
      "cell_type": "code",
      "source": [
        "df = pd.read_csv(\"parking_stream.csv\")\n",
        "lot_ids = df[\"lot_id\"].unique().tolist()\n",
        "print(lot_ids)"
      ],
      "metadata": {
        "id": "C8Moh90EPv0s"
      },
      "id": "C8Moh90EPv0s",
      "execution_count": null,
      "outputs": []
    },
    {
      "cell_type": "code",
      "source": [
        "import panel as pn\n",
        "import bokeh.plotting\n",
        "\n",
        "lot_viz_panels = []\n",
        "\n",
        "def create_plot_for_lot(lot_id):\n",
        "    filtered_lot = windowed_price.filter(pw.this.lot_id == lot_id)\n",
        "\n",
        "    def plot_fn(source):\n",
        "        fig = bokeh.plotting.figure(\n",
        "            width=800, height=300, x_axis_type=\"datetime\",\n",
        "            title=f\"Real-Time Pricing for Lot: {lot_id}\"\n",
        "        )\n",
        "        fig.line(\"t\", \"price\", source=source, color=\"blue\", legend_label=f\"Lot {lot_id}\")\n",
        "        fig.legend.location = \"top_left\"\n",
        "        return fig\n",
        "\n",
        "    return pn.panel(filtered_lot.plot(plot_fn, sorting_col=\"t\"))\n",
        "\n",
        "# Assuming you already have lot_ids = [\"L001\", \"L002\", ...]\n",
        "for lot in lot_ids:\n",
        "    lot_viz_panels.append(create_plot_for_lot(lot))\n",
        "\n",
        "pn.Column(*lot_viz_panels).servable()\n",
        "\n"
      ],
      "metadata": {
        "id": "_WZvR0TOQTwt"
      },
      "id": "_WZvR0TOQTwt",
      "execution_count": null,
      "outputs": []
    },
    {
      "cell_type": "markdown",
      "id": "7a5ed10e",
      "metadata": {
        "id": "7a5ed10e"
      },
      "source": [
        "## 🏃 SECTION 6: Run the Pathway Pipeline"
      ]
    },
    {
      "cell_type": "code",
      "execution_count": null,
      "id": "b3f4cd5a",
      "metadata": {
        "id": "b3f4cd5a"
      },
      "outputs": [],
      "source": [
        "# Start the Pathway pipeline execution in the background\n",
        "# - This triggers the real-time data stream processing defined above\n",
        "# - %%capture --no-display suppresses output in the notebook interface\n",
        "\n",
        "# %%capture --no-display\n",
        "pw.run()\n"
      ]
    }
  ],
  "metadata": {
    "colab": {
      "provenance": []
    },
    "kernelspec": {
      "display_name": "Python 3",
      "name": "python3"
    },
    "language_info": {
      "name": "python"
    }
  },
  "nbformat": 4,
  "nbformat_minor": 5
}